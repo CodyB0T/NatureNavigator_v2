{
 "cells": [
  {
   "cell_type": "code",
   "execution_count": 54,
   "metadata": {},
   "outputs": [
    {
     "name": "stdout",
     "output_type": "stream",
     "text": [
      "21-13\n",
      "26-16\n",
      "26-17\n",
      "27-18\n",
      "27-19\n"
     ]
    }
   ],
   "source": [
    "import pandas as pd\n",
    "\n",
    "df = pd.read_csv(\"weather_data.csv\")\n",
    "df = df.T\n",
    "df.head()\n",
    "\n",
    "for col in range(5):\n",
    "    HiLoText = f\"{df.iloc[1,col]:.0f}-{df.iloc[2,col]:.0f}\"\n",
    "    print(HiLoText)"
   ]
  },
  {
   "cell_type": "code",
   "execution_count": 64,
   "metadata": {},
   "outputs": [],
   "source": [
    "import tkinter as tk\n",
    "from tkinter import Tk, Canvas, Entry, Text, Button, PhotoImage\n",
    "import pandas as pd\n",
    "\n",
    "\n",
    "class Env(tk.Frame):\n",
    "    def __init__(self, master):\n",
    "        super().__init__(master)\n",
    "\n",
    "        self.canvas = Canvas(\n",
    "            self,\n",
    "            bg=\"#AFAFAF\",\n",
    "            height=800,\n",
    "            width=1200,\n",
    "            bd=0,\n",
    "            highlightthickness=0,\n",
    "            relief=\"ridge\",\n",
    "        )\n",
    "\n",
    "        self.canvas.place(x=0, y=0)\n",
    "\n",
    "        self.forcastFrame = tk.Frame(self)\n",
    "        self.forcastFrame.place(x=600,y=600)\n",
    "\n",
    "        self.per = tk.Label(self.forcastFrame, text = \"High-Low\")\n",
    "        self.per.grid(row = 1, column = 0)\n",
    "\n",
    "        self.day = tk.Label(self.forcastFrame, text = \"Precipitation\").grid(row = 2, column = 0)\n",
    "\n",
    "\n",
    "    def to_Fahrenheit(self, celsius):\n",
    "        fahrenheit = (celsius * 9/5) + 32\n",
    "        return fahrenheit\n",
    "    \n",
    "    def forcast(self):\n",
    "        self.df = pd.read_csv(\"weather_data.csv\")\n",
    "        self.df = self.df.T\n",
    "        for col in range(5):\n",
    "            dayLabel = tk.Label(self.forcastFrame, text = self.df.iloc[0,col])\n",
    "            dayLabel.grid(row = 0,column = col + 1)\n",
    "\n",
    "            HiLo = tk.Label(self.forcastFrame, text = f\"{self.to_Fahrenheit(self.df.iloc[1,col]):.0f} - {self.to_Fahrenheit(self.df.iloc[2,col]):.0f}\")\n",
    "            HiLo.grid(row = 1, column= col+1)\n",
    "\n",
    "            preChance = tk.Label(self.forcastFrame, text = self.df.iloc[3,col])\n",
    "            preChance.grid(row = 2, column= col + 1 )\n",
    "\n",
    "            \n",
    "\n",
    "\n",
    "if __name__ == \"__main__\":\n",
    "    root = tk.Tk()\n",
    "    root.geometry(\"1280x800\")\n",
    "\n",
    "    # Instantiate Plant class\n",
    "    frame = Env(root)\n",
    "    frame.config(width=1200, height=800)\n",
    "\n",
    "    # Pack the Plant frame\n",
    "    frame.grid(row=0, column=0)\n",
    "    root.mainloop()\n"
   ]
  },
  {
   "cell_type": "code",
   "execution_count": 29,
   "metadata": {},
   "outputs": [],
   "source": [
    "# import tkinter module\n",
    "from tkinter import * \n",
    "from tkinter.ttk import *\n",
    "\n",
    "# creating main tkinter window/toplevel\n",
    "master = Tk()\n",
    "\n",
    "df = pd.read_csv(\"weather_data.csv\")\n",
    "\n",
    "# this will create a label widget\n",
    "l1 = Label(master, text = df.iloc[0,0])\n",
    "l2 = Label(master, text = \"Second:\")\n",
    "\n",
    "# grid method to arrange labels in respective\n",
    "# rows and columns as specified\n",
    "l1.grid(row = 0, column = 0, sticky = W, pady = 2)\n",
    "l2.grid(row = 1, column = 0, sticky = W, pady = 2)\n",
    "\n",
    "# entry widgets, used to take entry from user\n",
    "e1 = Entry(master)\n",
    "e2 = Entry(master)\n",
    "\n",
    "# this will arrange entry widgets\n",
    "e1.grid(row = 0, column = 1, pady = 2)\n",
    "e2.grid(row = 1, column = 1, pady = 2)\n",
    "\n",
    "# infinite loop which can be terminated by keyboard\n",
    "# or mouse interrupt\n",
    "mainloop()\n"
   ]
  },
  {
   "cell_type": "code",
   "execution_count": 41,
   "metadata": {},
   "outputs": [],
   "source": [
    "import tkinter as tk\n",
    "\n",
    "class Env(tk.Frame):\n",
    "    def __init__(self, master):\n",
    "        super().__init__(master)\n",
    "\n",
    "        self.labels = []  # Create a list to store the labels\n",
    "\n",
    "        for i in range(5):\n",
    "            label = tk.Label(self, text=f\"Label {i}\")\n",
    "            label.pack()\n",
    "            self.labels.append(label)  # Add the label to the list\n",
    "\n",
    "if __name__ == \"__main__\":\n",
    "    root = tk.Tk()\n",
    "    root.geometry(\"400x300\")\n",
    "\n",
    "    frame = Env(root)\n",
    "    frame.pack()\n",
    "\n",
    "    root.mainloop()\n"
   ]
  },
  {
   "cell_type": "code",
   "execution_count": 42,
   "metadata": {},
   "outputs": [
    {
     "name": "stdout",
     "output_type": "stream",
     "text": [
      "0\n",
      "1\n",
      "2\n",
      "3\n",
      "4\n"
     ]
    }
   ],
   "source": [
    "for x in range(5):\n",
    "    print(x)"
   ]
  },
  {
   "cell_type": "code",
   "execution_count": 65,
   "metadata": {},
   "outputs": [
    {
     "name": "stdout",
     "output_type": "stream",
     "text": [
      "Frame Width: 200, Frame Height: 100\n"
     ]
    }
   ],
   "source": [
    "import tkinter as tk\n",
    "\n",
    "def get_frame_size(frame):\n",
    "    width = frame.winfo_reqwidth()\n",
    "    height = frame.winfo_reqheight()\n",
    "    return width, height\n",
    "\n",
    "if __name__ == \"__main__\":\n",
    "    root = tk.Tk()\n",
    "    root.geometry(\"400x400\")\n",
    "\n",
    "    frame = tk.Frame(root, width=200, height=100, bg=\"lightblue\")\n",
    "    frame.pack()\n",
    "\n",
    "    frame_width, frame_height = get_frame_size(frame)\n",
    "    print(f\"Frame Width: {frame_width}, Frame Height: {frame_height}\")\n",
    "\n",
    "    root.mainloop()\n"
   ]
  }
 ],
 "metadata": {
  "kernelspec": {
   "display_name": "myenv",
   "language": "python",
   "name": "python3"
  },
  "language_info": {
   "codemirror_mode": {
    "name": "ipython",
    "version": 3
   },
   "file_extension": ".py",
   "mimetype": "text/x-python",
   "name": "python",
   "nbconvert_exporter": "python",
   "pygments_lexer": "ipython3",
   "version": "3.9.17"
  }
 },
 "nbformat": 4,
 "nbformat_minor": 2
}
